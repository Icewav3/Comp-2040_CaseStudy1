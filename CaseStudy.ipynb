{
 "cells": [
  {
   "cell_type": "markdown",
   "metadata": {},
   "source": [
    "1.\tCreate a new empty Jupyter Notebook."
   ]
  },
  {
   "cell_type": "markdown",
   "metadata": {},
   "source": [
    "2.\tImport all the modules required for:\n",
    "◦ numpy\n",
    "◦ pandas\n",
    "◦ matplotlib\n",
    "◦ seaborn\n",
    "◦ LinearRegression"
   ]
  },
  {
   "cell_type": "markdown",
   "metadata": {},
   "source": [
    "3.\tRead the height_mass.csv file into a Pandas DataSet called: people ◦ Use the pandas read_csv method."
   ]
  },
  {
   "cell_type": "markdown",
   "metadata": {},
   "source": [
    "4.\tUse a Seaborn histplot to show the distribution for Mass.\n",
    "◦ https://seaborn.pydata.org/generated/seaborn.histplot.html \n",
    "◦ Experiment with different bin #’s and find which one gives you the clearest information about the data.\n",
    "◦ What does the plot tell you about the data? Be specific. Don’t focus on the numbers as much as the visual attributes.\n",
    "◦ Insert a markdown cell and note your observations. Superficial answers will lose marks.\n"
   ]
  },
  {
   "cell_type": "markdown",
   "metadata": {},
   "source": [
    "5.\tUse a Seaborn histplot to show the distribution for Height.\n",
    "◦ Experiment with different bin #’s and find which one gives you the clearest information about the data.\n",
    "◦ What does the plot tell you about the data? Be specific. Don’t focus on the numbers as much as the visual attributes.\n",
    "◦ Insert a markdown cell and note your observations. Superficial answers will lose marks.\n"
   ]
  },
  {
   "cell_type": "markdown",
   "metadata": {},
   "source": [
    "6.\tUse a Seaborn jointplot to plot x=Height, y=Mass ◦ If you get warnings, use named arguments like:\n",
    "▪ jointplot(x=”x axis column name”, y=”y axis column name”) ◦ Does this plot confirm what the histplot showed?\n",
    "◦ Insert a markdown cell and note your observations. Superficial answers will lose marks.\n"
   ]
  },
  {
   "cell_type": "markdown",
   "metadata": {},
   "source": [
    "7.\tSplit the data into training and testing data, using appropriate variable names.\n",
    "◦ Prepare your x and y:\n",
    "▪ x: Drop the Mass column.\n",
    "▪ y: Specify the Mass column.\n",
    "◦ Use sklearn train_test_split to split the data.\n"
   ]
  },
  {
   "cell_type": "markdown",
   "metadata": {},
   "source": [
    "8.\tCreate the model and fit it to the training data. ◦ Create a sklearn LinearRegression model.\n",
    "◦ Use the fit method to fit it to the training data.\n"
   ]
  },
  {
   "cell_type": "markdown",
   "metadata": {},
   "source": [
    "9.\tPredict values based on testing data.\n",
    "◦ Use the predict method to predict values with the x testing data.\n"
   ]
  },
  {
   "cell_type": "markdown",
   "metadata": {},
   "source": [
    "10. Print out error metrics:\n",
    "◦ Mean Absolute Error (MAE)\n",
    "◦ Mean Squared Error (MSE)\n",
    "◦ Root Mean Squared Error (RMSE)\n"
   ]
  },
  {
   "cell_type": "markdown",
   "metadata": {},
   "source": [
    "11. Predict some specific mass. Choose any height directly from the data, predict the weight for that height, and see whether the prediction is close to reality.\n",
    "◦ Use the predict method and feed it a 2d array like: [[1.70]]\n",
    "◦ Add a markdown cell and explain how well the prediction matched reality, with specific attention to the RMSE error. Be specific and compare the numbers. Superficial answers will lose marks.\n"
   ]
  },
  {
   "cell_type": "markdown",
   "metadata": {},
   "source": [
    "12. Use seaborn to display an lmplot with the linear regression line shown (fit_reg=True).\n",
    "◦ If you get warnings, use named arguments like:\n",
    "▪ lmplot(x=”x axis column name”, y=”y axis column name”) ◦ Does this plot support your observations from task #6?\n",
    "◦ Insert a markdown cell and note your observations. Superficial answers will lose marks."
   ]
  }
 ],
 "metadata": {
  "language_info": {
   "name": "python"
  }
 },
 "nbformat": 4,
 "nbformat_minor": 2
}
